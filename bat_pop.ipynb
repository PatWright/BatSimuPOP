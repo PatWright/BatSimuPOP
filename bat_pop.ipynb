{
 "cells": [
  {
   "cell_type": "markdown",
   "metadata": {
    "kernel": "SoS"
   },
   "source": [
    "# BatSimuPOP"
   ]
  },
  {
   "cell_type": "markdown",
   "metadata": {
    "kernel": "SoS"
   },
   "source": [
    "# Simulation of population changes on bat colonies over time to assess the use of temporal sampling"
   ]
  },
  {
   "cell_type": "markdown",
   "metadata": {
    "kernel": "SoS"
   },
   "source": [
    "# Input file:\n",
    "1 Genepop file with 2 subpopulations (total number of individuals in genepop is inferior to the number of individuals in the simulation)\n",
    "\n",
    "subpop 1: local colony that will undergo changes (additional info on age, age category and sex).\n",
    "\n",
    "subpop 2: Rest of the population. Present to maintain gene flow over time. (additional info on sex and whether juvenile or adult)\n",
    "\n",
    "Information on sex, age in years (for 1 subpop) or age category (juvenile-adult) is also available (file in fstat format 14 microsatellite loci + additional info)"
   ]
  },
  {
   "cell_type": "code",
   "execution_count": 67,
   "metadata": {
    "kernel": "SoS"
   },
   "outputs": [],
   "source": [
    "from simuOpt import setOptions\n",
    "setOptions(quiet=True)\n",
    "import simuPOP as sim\n",
    "from simuPOP.utils import importPopulation\n",
    "\n",
    "pop = importPopulation('GENEPOP', 'Genpop_2subpops.txt')\n"
   ]
  },
  {
   "cell_type": "markdown",
   "metadata": {
    "kernel": "SoS"
   },
   "source": [
    "Ther are 68 and 192 bats in two populations. No sex and age information yet."
   ]
  },
  {
   "cell_type": "code",
   "execution_count": 68,
   "metadata": {
    "kernel": "SoS"
   },
   "outputs": [],
   "source": [
    "# get age, agecat, sex from fstat file\n",
    "%preview  pop_dump.txt --limit 500\n",
    "import random\n",
    "\n",
    "pop.addInfoFields(['age'])\n",
    "\n",
    "# age_cat is not imported as they are defined by age \n",
    "# 0, 1, 2 as juvenile and 2-above as adult\n",
    "with open('Fstat_dat(age,agecat,sex).txt') as fs:\n",
    "    for idx, line in enumerate(fs):\n",
    "        if idx < 10:\n",
    "            # skip the first few lines\n",
    "            continue\n",
    "        if line.startswith('1 '):\n",
    "            age, age_cat, sex = line.strip().split()[-3:]\n",
    "            pop.individual(idx-18).setSex(sim.MALE if sex == '2' else sim.FEMALE )\n",
    "            pop.individual(idx-18).age = int(age)\n",
    "            #pop.individual(idx-18).age_cat = int(age_cat)\n",
    "        elif line.startswith('2 '):\n",
    "            age_cat, sex = line.strip().split()[-2:]\n",
    "            pop.individual(idx-18).setSex(sim.MALE if sex == '2' else sim.FEMALE )\n",
    "            # no age info\n",
    "            pop.individual(idx-18).age = random.randint(0, 17)\n",
    "            #pop.individual(idx-18).age_cat = int(age_cat)\n",
    "sim.dump(pop, width=3, max=300, output='pop_dump.txt')     "
   ]
  },
  {
   "cell_type": "code",
   "execution_count": 69,
   "metadata": {
    "kernel": "SoS",
    "scrolled": false
   },
   "outputs": [
    {
     "name": "stdout",
     "output_type": "stream",
     "text": [
      "Male\n",
      "()\n",
      "Female\n",
      "(2.0, 2.0, 2.0, 3.0, 3.0, 3.0, 3.0, 5.0, 5.0, 4.0, 4.0, 4.0, 4.0, 4.0, 9.0, 2.0, 2.0, 2.0, 2.0, 2.0, 2.0, 2.0, 2.0, 6.0, 1.0, 1.0, 12.0, 14.0, 13.0, 12.0, 9.0, 8.0, 6.0, 15.0, 15.0, 11.0, 13.0, 13.0, 12.0, 9.0, 2.0, 8.0, 10.0, 10.0, 7.0, 7.0, 8.0, 7.0, 7.0, 6.0, 6.0, 6.0, 6.0, 6.0, 6.0, 6.0, 6.0, 5.0, 5.0, 5.0, 5.0, 5.0, 5.0, 5.0, 5.0, 5.0, 5.0, 5.0)\n",
      "age < 3\n",
      "(2.0, 2.0, 2.0, 2.0, 2.0, 2.0, 2.0, 2.0, 2.0, 2.0, 2.0, 1.0, 1.0, 2.0)\n",
      "age >= 3\n",
      "(3.0, 3.0, 3.0, 3.0, 5.0, 5.0, 4.0, 4.0, 4.0, 4.0, 4.0, 9.0, 6.0, 12.0, 14.0, 13.0, 12.0, 9.0, 8.0, 6.0, 15.0, 15.0, 11.0, 13.0, 13.0, 12.0, 9.0, 8.0, 10.0, 10.0, 7.0, 7.0, 8.0, 7.0, 7.0, 6.0, 6.0, 6.0, 6.0, 6.0, 6.0, 6.0, 6.0, 5.0, 5.0, 5.0, 5.0, 5.0, 5.0, 5.0, 5.0, 5.0, 5.0, 5.0)\n"
     ]
    }
   ],
   "source": [
    "pop.setVirtualSplitter(\n",
    "    sim.CombinedSplitter([\n",
    "        sim.SexSplitter(),\n",
    "        sim.InfoSplitter(field='age', cutoff=[3] ),\n",
    "    ]))\n",
    "\n",
    "for x in range(0, 4):\n",
    "    print(pop.subPopName([0, x]))\n",
    "    print(pop.indInfo('age', subPop=[0, x]))"
   ]
  },
  {
   "cell_type": "markdown",
   "metadata": {
    "kernel": "SoS"
   },
   "source": [
    "# Life cycle of species to consider for overlapping generations:\n",
    "Maxlifespan ~ 17 years old\n",
    "\n",
    "minMatingAge ~ 2 years old\n",
    "\n",
    "maxMatingAge ~ 17 years old\n",
    "\n",
    "Number of young per year ~ 1\n",
    "\n",
    "1 generation ~ 5 years"
   ]
  },
  {
   "cell_type": "markdown",
   "metadata": {
    "kernel": "SoS"
   },
   "source": [
    "# Other settings:\n",
    "\n",
    "Random mating in subpopulations\n",
    "\n",
    "Maintain gene flow between both sub-populations using Migrator. This is sex-biased as females remain in the same colony and males disperse.\n",
    "\n",
    "Female migration rate\t0.001\n",
    "\n",
    "Male migration rate\t0.1"
   ]
  },
  {
   "cell_type": "code",
   "execution_count": 70,
   "metadata": {
    "kernel": "SoS"
   },
   "outputs": [],
   "source": [
    "# as we are keeping subpopulation 1 as the \"source\" population,\n",
    "# no migration from 0 to 1 is needed.\n",
    "\n",
    "migr = sim.Migrator(\n",
    "    rate=[\n",
    "        [0, 0, 0 ],\n",
    "        [0.1, 0.9, 0],\n",
    "        [0.001, 0, 0.999],\n",
    "       ],\n",
    "   mode = sim.BY_PROBABILITY,\n",
    "   subPops=[0, (1, 'Male'), (1, 'Female')]\n",
    ")\n",
    "\n",
    "# let us test the migration\n",
    "pop.addInfoFields('migrate_to')"
   ]
  },
  {
   "cell_type": "code",
   "execution_count": 71,
   "metadata": {
    "kernel": "SoS"
   },
   "outputs": [
    {
     "name": "stdout",
     "output_type": "stream",
     "text": [
      "before migration: m/f 0: 0/68 m/f 1: 37 155\n",
      "after migration: m/f 0: 5/68 m/f 1: 32 155\n",
      "before migration: m/f 0: 5/68 m/f 1: 32 155\n",
      "after migration: m/f 0: 8/68 m/f 1: 29 155\n",
      "before migration: m/f 0: 8/68 m/f 1: 29 155\n",
      "after migration: m/f 0: 10/68 m/f 1: 27 155\n",
      "before migration: m/f 0: 10/68 m/f 1: 27 155\n",
      "after migration: m/f 0: 11/68 m/f 1: 26 155\n",
      "before migration: m/f 0: 11/68 m/f 1: 26 155\n",
      "after migration: m/f 0: 12/68 m/f 1: 25 155\n"
     ]
    },
    {
     "data": {
      "text/plain": [
       "5"
      ]
     },
     "execution_count": 71,
     "metadata": {},
     "output_type": "execute_result"
    }
   ],
   "source": [
    "pop.evolve(\n",
    "    preOps=[\n",
    "        sim.Stat(popSize=True,\n",
    "             subPops=[(0, 0), (0, 1), (1, 0), (1, 1)],\n",
    "             vars='popSize_sp'),\n",
    "        sim.PyEval('''f\"before migration: m/f 0: {subPop[(0,0)]['popSize']}/{subPop[(0,1)]['popSize']}''' + \\\n",
    "               ''' m/f 1: {subPop[(1,0)]['popSize']} {subPop[(1,1)]['popSize']}\\\\n\"'''),\n",
    "        migr,\n",
    "        sim.Stat(popSize=True,\n",
    "             subPops=[(0, 0), (0, 1), (1, 0), (1, 1)],\n",
    "             vars='popSize_sp'),\n",
    "        sim.PyEval('''f\"after migration: m/f 0: {subPop[(0,0)]['popSize']}/{subPop[(0,1)]['popSize']}''' + \\\n",
    "               ''' m/f 1: {subPop[(1,0)]['popSize']} {subPop[(1,1)]['popSize']}\\\\n\"'''),\n",
    "    ],\n",
    "    matingScheme=sim.CloneMating(),\n",
    "    gen=5\n",
    ")"
   ]
  },
  {
   "cell_type": "markdown",
   "metadata": {
    "kernel": "SoS"
   },
   "source": [
    "# Example scenario:\n",
    "\n",
    "Simulation of 20 generations (~200 years)\n",
    "\n",
    "The initial population size is based on Ne estimates from the Genepop file (N genotypes < Actual population size), for example:\n",
    "\n",
    "N0subpop1=130\n",
    "\n",
    "N0subpop2=550\n",
    "\n",
    "Subpop 2 remains constant over time\n",
    "\n",
    "Subpop 1 undergoes an instant population change (InstantChangeModel) at generation 5 and declines to 80.\n",
    "\n",
    "Then at generation 12 it undergoes a linear growth at rate 0.2 to a population of 150 (LinearGrowthModel) => Need of MultiStageModel \n",
    "\n",
    "# Outputs:\n",
    "\n",
    "Need Genepop file outputs for each generation (or every 5 years) after breeding to include juveniles. The effective population size estimates will be done separately.\n",
    "\n",
    "Output info on age and sex of individuals would also help with Ne estimates."
   ]
  },
  {
   "cell_type": "code",
   "execution_count": null,
   "metadata": {
    "kernel": "SoS"
   },
   "outputs": [],
   "source": []
  }
 ],
 "metadata": {
  "kernelspec": {
   "display_name": "SoS",
   "language": "sos",
   "name": "sos"
  },
  "language_info": {
   "codemirror_mode": "sos",
   "file_extension": ".sos",
   "mimetype": "text/x-sos",
   "name": "sos",
   "nbconvert_exporter": "sos_notebook.converter.SoS_Exporter",
   "pygments_lexer": "sos"
  },
  "sos": {
   "kernels": [],
   "panel": {
    "displayed": true,
    "height": 0,
    "style": "side"
   },
   "version": "0.9.15.9"
  }
 },
 "nbformat": 4,
 "nbformat_minor": 2
}
